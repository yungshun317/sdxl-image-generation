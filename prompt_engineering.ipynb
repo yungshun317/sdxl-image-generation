{
 "cells": [
  {
   "cell_type": "code",
   "execution_count": null,
   "id": "dc3d3719-3847-4795-9704-91ad9554d00f",
   "metadata": {},
   "outputs": [],
   "source": [
    "!pip install torch==1.13.1 torchvision==0.14.1 torchaudio==0.13.1 torchdata==0.5.1 torchtext==0.14.1"
   ]
  },
  {
   "cell_type": "code",
   "execution_count": null,
   "id": "47fac7f2-6b4c-4edf-acd0-25bf9c9a01d6",
   "metadata": {},
   "outputs": [],
   "source": [
    "!pip install diffusers==0.11.1\n",
    "!pip install -q accelerate transformers ftfy bitsandbytes==0.35.0 natsort safetensors xformers\n",
    "\n",
    "import torch\n",
    "from diffusers import StableDiffusionPipeline"
   ]
  },
  {
   "cell_type": "code",
   "execution_count": null,
   "id": "0dbfdccf-c0b5-4c7a-8857-486ea4030a77",
   "metadata": {},
   "outputs": [],
   "source": [
    "pipe = StableDiffusionPipeline.from_pretrained(\"runwayml/stable-diffusion-v1-5\", torch_dtype=torch.float16)\n",
    "pipe = pipe.to(\"cuda\")"
   ]
  },
  {
   "cell_type": "code",
   "execution_count": null,
   "id": "9e0e474a-29f3-484f-865a-5a729ee97ab7",
   "metadata": {},
   "outputs": [],
   "source": [
    "pipe.enable_attention_slicing()\n",
    "pipe.enable_xformers_memory_efficient_attention()"
   ]
  },
  {
   "cell_type": "code",
   "execution_count": null,
   "id": "e7ce59fb-f3e6-4e53-8171-24993286968a",
   "metadata": {},
   "outputs": [],
   "source": [
    "seed = 36"
   ]
  },
  {
   "cell_type": "code",
   "execution_count": null,
   "id": "cbe20a49-4b90-47fb-8b05-7daab2f360f5",
   "metadata": {},
   "outputs": [],
   "source": [
    "from PIL import Image\n",
    "\n",
    "def img_grid(imgs, rows=1, cols=3, scale=1):\n",
    "  assert len(imgs) == rows * cols\n",
    "\n",
    "  w, h = imgs[0].size\n",
    "  w, h = int(w*scale), int(h*scale)\n",
    "\n",
    "  grid = Image.new('RGB', size=(cols*w, rows*h))\n",
    "  grid_w, grid_h = grid.size\n",
    "\n",
    "  for i, img in enumerate(imgs):\n",
    "      img = img.resize((w,h), Image.ANTIALIAS)\n",
    "      grid.paste(img, box=(i%cols*w, i//cols*h))\n",
    "  return grid"
   ]
  },
  {
   "cell_type": "markdown",
   "id": "b962aebe-e0c4-4cce-88b8-50d86e3363a3",
   "metadata": {},
   "source": [
    "## Subject/Object"
   ]
  },
  {
   "cell_type": "code",
   "execution_count": null,
   "id": "2fc2cb5d-00c4-4a44-9016-535baea54792",
   "metadata": {},
   "outputs": [],
   "source": [
    "prompt = 'an orange cat'\n",
    "\n",
    "generator = torch.Generator('cuda').manual_seed(seed)\n",
    "img = pipe(prompt, generator=generator).images[0]\n",
    "img"
   ]
  }
 ],
 "metadata": {
  "kernelspec": {
   "display_name": "Python 3 (ipykernel)",
   "language": "python",
   "name": "python3"
  },
  "language_info": {
   "codemirror_mode": {
    "name": "ipython",
    "version": 3
   },
   "file_extension": ".py",
   "mimetype": "text/x-python",
   "name": "python",
   "nbconvert_exporter": "python",
   "pygments_lexer": "ipython3",
   "version": "3.8.8"
  }
 },
 "nbformat": 4,
 "nbformat_minor": 5
}
